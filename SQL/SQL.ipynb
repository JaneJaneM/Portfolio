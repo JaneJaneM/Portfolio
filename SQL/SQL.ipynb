{
 "cells": [
  {
   "cell_type": "markdown",
   "metadata": {
    "id": "42KD75yW2y-x"
   },
   "source": [
    "# Проект по SQL"
   ]
  },
  {
   "cell_type": "markdown",
   "metadata": {},
   "source": [
    "Во время коронавируса наша компания  купила крупный сервис для чтения книг по подписке. Нам необходимо проанализировать базу данных.\n",
    "В ней — информация о книгах, издательствах, авторах, а также пользовательские обзоры книг. Эти данные помогут сформулировать ценностное предложение для нового продукта."
   ]
  },
  {
   "cell_type": "markdown",
   "metadata": {
    "id": "RRm9gbdN57zG"
   },
   "source": [
    "### Цель исследования\n",
    "- проанализировать базу данных крупного сервиса для чтения книг по подписке"
   ]
  },
  {
   "cell_type": "markdown",
   "metadata": {
    "id": "b5BH1o4y22hw"
   },
   "source": [
    "### Задания\n",
    "\n",
    "- Посчитайте, сколько книг вышло после 1 января 2000 года;\n",
    "- Для каждой книги посчитайте количество обзоров и среднюю оценку;\n",
    "- Определите издательство, которое выпустило наибольшее число книг толще 50 страниц — так вы исключите из анализа брошюры;\n",
    "- Определите автора с самой высокой средней оценкой книг — учитывайте только книги с 50 и более оценками;\n",
    "- Посчитайте среднее количество обзоров от пользователей, которые поставили больше 48 оценок.\n",
    "\n"
   ]
  },
  {
   "cell_type": "markdown",
   "metadata": {
    "id": "vnXeTapq-xVc"
   },
   "source": [
    "### Описание данных\n",
    "\n",
    "**Таблица `books`**\n",
    "\n",
    "Содержит данные о книгах:\n",
    "\n",
    "- `book_id` — идентификатор книги;\n",
    "- `author_id` — идентификатор автора;\n",
    "- `title` — название книги;\n",
    "- `num_pages` — количество страниц;\n",
    "- `publication_date` — дата публикации книги;\n",
    "- `publisher_id` — идентификатор издателя.\n",
    "\n",
    "**Таблица `authors`**\n",
    "\n",
    "Содержит данные об авторах:\n",
    "\n",
    "- `author_id` — идентификатор автора;\n",
    "- `author` — имя автора.\n",
    "\n",
    "**Таблица `publishers`**\n",
    "\n",
    "Содержит данные об издательствах:\n",
    "\n",
    "- `publisher_id` — идентификатор издательства;\n",
    "- `publisher` — название издательства;\n",
    "\n",
    "**Таблица `ratings`**\n",
    "\n",
    "Содержит данные о пользовательских оценках книг:\n",
    "\n",
    "- `rating_id` — идентификатор оценки;\n",
    "- `book_id` — идентификатор книги;\n",
    "- `username` — имя пользователя, оставившего оценку;\n",
    "- `rating` — оценка книги.\n",
    "\n",
    "**Таблица `reviews`**\n",
    "\n",
    "Содержит данные о пользовательских обзорах на книги:\n",
    "\n",
    "- `review_id` — идентификатор обзора;\n",
    "- `book_id` — идентификатор книги;\n",
    "- `username` — имя пользователя, написавшего обзор;\n",
    "- `text` — текст обзора."
   ]
  },
  {
   "cell_type": "code",
   "execution_count": 1,
   "metadata": {
    "id": "FJJ_uAAeR03o"
   },
   "outputs": [],
   "source": [
    "#from sqlalchemy import create_engine, text as sql_text\n",
    "#from sqlalchemy import text\n",
    "\n",
    "# импортируем библиотеки\n",
    "import pandas as pd\n",
    "from sqlalchemy import text, create_engine\n",
    "# устанавливаем параметры\n",
    "db_config = {'user': 'praktikum_student', # имя пользователя\n",
    "'pwd': 'Sdf4$2;d-d30pp', # пароль\n",
    "'host': 'rc1b-wcoijxj3yxfsf3fs.mdb.yandexcloud.net',\n",
    "'port': 6432, # порт подключения\n",
    "'db': 'data-analyst-final-project-db'} # название базы данных\n",
    "connection_string = 'postgresql://{user}:{pwd}@{host}:{port}/{db}'.format(**db_config)\n",
    "\n",
    "# сохраняем коннектор\n",
    "engine = create_engine(connection_string, connect_args={'sslmode':'require'})\n",
    "\n",
    "\n",
    "\n"
   ]
  },
  {
   "cell_type": "markdown",
   "metadata": {
    "id": "Ldr5kOu16JVi"
   },
   "source": [
    "### Исследование таблиц"
   ]
  },
  {
   "cell_type": "markdown",
   "metadata": {
    "id": "DVIetH9c8klQ"
   },
   "source": [
    "Напишем функцию для вывода первых строк таблицы:"
   ]
  },
  {
   "cell_type": "code",
   "execution_count": 2,
   "metadata": {
    "id": "OY9GXa9O8gzi"
   },
   "outputs": [],
   "source": [
    "def request(query):\n",
    "    con = engine.connect()\n",
    "    result = pd.io.sql.read_sql(sql=text(query), con=con)\n",
    "    return result"
   ]
  },
  {
   "cell_type": "code",
   "execution_count": 3,
   "metadata": {
    "colab": {
     "base_uri": "https://localhost:8080/",
     "height": 206
    },
    "id": "RgXKjp3T9aSB",
    "outputId": "63938029-96af-4f0d-a736-402020a7d6c5"
   },
   "outputs": [
    {
     "data": {
      "text/html": [
       "<div>\n",
       "<style scoped>\n",
       "    .dataframe tbody tr th:only-of-type {\n",
       "        vertical-align: middle;\n",
       "    }\n",
       "\n",
       "    .dataframe tbody tr th {\n",
       "        vertical-align: top;\n",
       "    }\n",
       "\n",
       "    .dataframe thead th {\n",
       "        text-align: right;\n",
       "    }\n",
       "</style>\n",
       "<table border=\"1\" class=\"dataframe\">\n",
       "  <thead>\n",
       "    <tr style=\"text-align: right;\">\n",
       "      <th></th>\n",
       "      <th>book_id</th>\n",
       "      <th>author_id</th>\n",
       "      <th>title</th>\n",
       "      <th>num_pages</th>\n",
       "      <th>publication_date</th>\n",
       "      <th>publisher_id</th>\n",
       "    </tr>\n",
       "  </thead>\n",
       "  <tbody>\n",
       "    <tr>\n",
       "      <th>0</th>\n",
       "      <td>1</td>\n",
       "      <td>546</td>\n",
       "      <td>'Salem's Lot</td>\n",
       "      <td>594</td>\n",
       "      <td>2005-11-01</td>\n",
       "      <td>93</td>\n",
       "    </tr>\n",
       "    <tr>\n",
       "      <th>1</th>\n",
       "      <td>2</td>\n",
       "      <td>465</td>\n",
       "      <td>1 000 Places to See Before You Die</td>\n",
       "      <td>992</td>\n",
       "      <td>2003-05-22</td>\n",
       "      <td>336</td>\n",
       "    </tr>\n",
       "    <tr>\n",
       "      <th>2</th>\n",
       "      <td>3</td>\n",
       "      <td>407</td>\n",
       "      <td>13 Little Blue Envelopes (Little Blue Envelope...</td>\n",
       "      <td>322</td>\n",
       "      <td>2010-12-21</td>\n",
       "      <td>135</td>\n",
       "    </tr>\n",
       "    <tr>\n",
       "      <th>3</th>\n",
       "      <td>4</td>\n",
       "      <td>82</td>\n",
       "      <td>1491: New Revelations of the Americas Before C...</td>\n",
       "      <td>541</td>\n",
       "      <td>2006-10-10</td>\n",
       "      <td>309</td>\n",
       "    </tr>\n",
       "    <tr>\n",
       "      <th>4</th>\n",
       "      <td>5</td>\n",
       "      <td>125</td>\n",
       "      <td>1776</td>\n",
       "      <td>386</td>\n",
       "      <td>2006-07-04</td>\n",
       "      <td>268</td>\n",
       "    </tr>\n",
       "  </tbody>\n",
       "</table>\n",
       "</div>"
      ],
      "text/plain": [
       "   book_id  author_id                                              title  \\\n",
       "0        1        546                                       'Salem's Lot   \n",
       "1        2        465                 1 000 Places to See Before You Die   \n",
       "2        3        407  13 Little Blue Envelopes (Little Blue Envelope...   \n",
       "3        4         82  1491: New Revelations of the Americas Before C...   \n",
       "4        5        125                                               1776   \n",
       "\n",
       "   num_pages publication_date  publisher_id  \n",
       "0        594       2005-11-01            93  \n",
       "1        992       2003-05-22           336  \n",
       "2        322       2010-12-21           135  \n",
       "3        541       2006-10-10           309  \n",
       "4        386       2006-07-04           268  "
      ]
     },
     "execution_count": 3,
     "metadata": {},
     "output_type": "execute_result"
    }
   ],
   "source": [
    "request('''SELECT *\n",
    "           FROM books\n",
    "           LIMIT 5\n",
    "           ''')"
   ]
  },
  {
   "cell_type": "code",
   "execution_count": 4,
   "metadata": {
    "colab": {
     "base_uri": "https://localhost:8080/",
     "height": 206
    },
    "id": "iKB06HfQ9yQY",
    "outputId": "6e4a214d-70a8-4183-ff70-4ccd02820092"
   },
   "outputs": [
    {
     "data": {
      "text/html": [
       "<div>\n",
       "<style scoped>\n",
       "    .dataframe tbody tr th:only-of-type {\n",
       "        vertical-align: middle;\n",
       "    }\n",
       "\n",
       "    .dataframe tbody tr th {\n",
       "        vertical-align: top;\n",
       "    }\n",
       "\n",
       "    .dataframe thead th {\n",
       "        text-align: right;\n",
       "    }\n",
       "</style>\n",
       "<table border=\"1\" class=\"dataframe\">\n",
       "  <thead>\n",
       "    <tr style=\"text-align: right;\">\n",
       "      <th></th>\n",
       "      <th>author_id</th>\n",
       "      <th>author</th>\n",
       "    </tr>\n",
       "  </thead>\n",
       "  <tbody>\n",
       "    <tr>\n",
       "      <th>0</th>\n",
       "      <td>1</td>\n",
       "      <td>A.S. Byatt</td>\n",
       "    </tr>\n",
       "    <tr>\n",
       "      <th>1</th>\n",
       "      <td>2</td>\n",
       "      <td>Aesop/Laura Harris/Laura Gibbs</td>\n",
       "    </tr>\n",
       "    <tr>\n",
       "      <th>2</th>\n",
       "      <td>3</td>\n",
       "      <td>Agatha Christie</td>\n",
       "    </tr>\n",
       "    <tr>\n",
       "      <th>3</th>\n",
       "      <td>4</td>\n",
       "      <td>Alan Brennert</td>\n",
       "    </tr>\n",
       "    <tr>\n",
       "      <th>4</th>\n",
       "      <td>5</td>\n",
       "      <td>Alan Moore/David   Lloyd</td>\n",
       "    </tr>\n",
       "  </tbody>\n",
       "</table>\n",
       "</div>"
      ],
      "text/plain": [
       "   author_id                          author\n",
       "0          1                      A.S. Byatt\n",
       "1          2  Aesop/Laura Harris/Laura Gibbs\n",
       "2          3                 Agatha Christie\n",
       "3          4                   Alan Brennert\n",
       "4          5        Alan Moore/David   Lloyd"
      ]
     },
     "execution_count": 4,
     "metadata": {},
     "output_type": "execute_result"
    }
   ],
   "source": [
    "request('''SELECT *\n",
    "           FROM authors\n",
    "           LIMIT 5''')"
   ]
  },
  {
   "cell_type": "code",
   "execution_count": 5,
   "metadata": {
    "colab": {
     "base_uri": "https://localhost:8080/",
     "height": 206
    },
    "id": "qV6P6fCI9-uq",
    "outputId": "3e49d38a-d20a-475a-b8d4-29e86a3f9d1c"
   },
   "outputs": [
    {
     "data": {
      "text/html": [
       "<div>\n",
       "<style scoped>\n",
       "    .dataframe tbody tr th:only-of-type {\n",
       "        vertical-align: middle;\n",
       "    }\n",
       "\n",
       "    .dataframe tbody tr th {\n",
       "        vertical-align: top;\n",
       "    }\n",
       "\n",
       "    .dataframe thead th {\n",
       "        text-align: right;\n",
       "    }\n",
       "</style>\n",
       "<table border=\"1\" class=\"dataframe\">\n",
       "  <thead>\n",
       "    <tr style=\"text-align: right;\">\n",
       "      <th></th>\n",
       "      <th>publisher_id</th>\n",
       "      <th>publisher</th>\n",
       "    </tr>\n",
       "  </thead>\n",
       "  <tbody>\n",
       "    <tr>\n",
       "      <th>0</th>\n",
       "      <td>1</td>\n",
       "      <td>Ace</td>\n",
       "    </tr>\n",
       "    <tr>\n",
       "      <th>1</th>\n",
       "      <td>2</td>\n",
       "      <td>Ace Book</td>\n",
       "    </tr>\n",
       "    <tr>\n",
       "      <th>2</th>\n",
       "      <td>3</td>\n",
       "      <td>Ace Books</td>\n",
       "    </tr>\n",
       "    <tr>\n",
       "      <th>3</th>\n",
       "      <td>4</td>\n",
       "      <td>Ace Hardcover</td>\n",
       "    </tr>\n",
       "    <tr>\n",
       "      <th>4</th>\n",
       "      <td>5</td>\n",
       "      <td>Addison Wesley Publishing Company</td>\n",
       "    </tr>\n",
       "  </tbody>\n",
       "</table>\n",
       "</div>"
      ],
      "text/plain": [
       "   publisher_id                          publisher\n",
       "0             1                                Ace\n",
       "1             2                           Ace Book\n",
       "2             3                          Ace Books\n",
       "3             4                      Ace Hardcover\n",
       "4             5  Addison Wesley Publishing Company"
      ]
     },
     "execution_count": 5,
     "metadata": {},
     "output_type": "execute_result"
    }
   ],
   "source": [
    "request('''SELECT *\n",
    "           FROM publishers\n",
    "           LIMIT 5''')"
   ]
  },
  {
   "cell_type": "code",
   "execution_count": 6,
   "metadata": {
    "colab": {
     "base_uri": "https://localhost:8080/",
     "height": 206
    },
    "id": "ei8wzCj8-EjD",
    "outputId": "4f83e2ea-156e-4c20-fce0-3dbe57cbc4b4"
   },
   "outputs": [
    {
     "data": {
      "text/html": [
       "<div>\n",
       "<style scoped>\n",
       "    .dataframe tbody tr th:only-of-type {\n",
       "        vertical-align: middle;\n",
       "    }\n",
       "\n",
       "    .dataframe tbody tr th {\n",
       "        vertical-align: top;\n",
       "    }\n",
       "\n",
       "    .dataframe thead th {\n",
       "        text-align: right;\n",
       "    }\n",
       "</style>\n",
       "<table border=\"1\" class=\"dataframe\">\n",
       "  <thead>\n",
       "    <tr style=\"text-align: right;\">\n",
       "      <th></th>\n",
       "      <th>rating_id</th>\n",
       "      <th>book_id</th>\n",
       "      <th>username</th>\n",
       "      <th>rating</th>\n",
       "    </tr>\n",
       "  </thead>\n",
       "  <tbody>\n",
       "    <tr>\n",
       "      <th>0</th>\n",
       "      <td>1</td>\n",
       "      <td>1</td>\n",
       "      <td>ryanfranco</td>\n",
       "      <td>4</td>\n",
       "    </tr>\n",
       "    <tr>\n",
       "      <th>1</th>\n",
       "      <td>2</td>\n",
       "      <td>1</td>\n",
       "      <td>grantpatricia</td>\n",
       "      <td>2</td>\n",
       "    </tr>\n",
       "    <tr>\n",
       "      <th>2</th>\n",
       "      <td>3</td>\n",
       "      <td>1</td>\n",
       "      <td>brandtandrea</td>\n",
       "      <td>5</td>\n",
       "    </tr>\n",
       "    <tr>\n",
       "      <th>3</th>\n",
       "      <td>4</td>\n",
       "      <td>2</td>\n",
       "      <td>lorichen</td>\n",
       "      <td>3</td>\n",
       "    </tr>\n",
       "    <tr>\n",
       "      <th>4</th>\n",
       "      <td>5</td>\n",
       "      <td>2</td>\n",
       "      <td>mariokeller</td>\n",
       "      <td>2</td>\n",
       "    </tr>\n",
       "  </tbody>\n",
       "</table>\n",
       "</div>"
      ],
      "text/plain": [
       "   rating_id  book_id       username  rating\n",
       "0          1        1     ryanfranco       4\n",
       "1          2        1  grantpatricia       2\n",
       "2          3        1   brandtandrea       5\n",
       "3          4        2       lorichen       3\n",
       "4          5        2    mariokeller       2"
      ]
     },
     "execution_count": 6,
     "metadata": {},
     "output_type": "execute_result"
    }
   ],
   "source": [
    "request('''SELECT *\n",
    "           FROM ratings\n",
    "           LIMIT 5''')"
   ]
  },
  {
   "cell_type": "code",
   "execution_count": 7,
   "metadata": {
    "colab": {
     "base_uri": "https://localhost:8080/",
     "height": 206
    },
    "id": "RrNBGN8--NkH",
    "outputId": "e9c519f4-c439-4d47-d8a6-0f91c43df274"
   },
   "outputs": [
    {
     "data": {
      "text/html": [
       "<div>\n",
       "<style scoped>\n",
       "    .dataframe tbody tr th:only-of-type {\n",
       "        vertical-align: middle;\n",
       "    }\n",
       "\n",
       "    .dataframe tbody tr th {\n",
       "        vertical-align: top;\n",
       "    }\n",
       "\n",
       "    .dataframe thead th {\n",
       "        text-align: right;\n",
       "    }\n",
       "</style>\n",
       "<table border=\"1\" class=\"dataframe\">\n",
       "  <thead>\n",
       "    <tr style=\"text-align: right;\">\n",
       "      <th></th>\n",
       "      <th>review_id</th>\n",
       "      <th>book_id</th>\n",
       "      <th>username</th>\n",
       "      <th>text</th>\n",
       "    </tr>\n",
       "  </thead>\n",
       "  <tbody>\n",
       "    <tr>\n",
       "      <th>0</th>\n",
       "      <td>1</td>\n",
       "      <td>1</td>\n",
       "      <td>brandtandrea</td>\n",
       "      <td>Mention society tell send professor analysis. ...</td>\n",
       "    </tr>\n",
       "    <tr>\n",
       "      <th>1</th>\n",
       "      <td>2</td>\n",
       "      <td>1</td>\n",
       "      <td>ryanfranco</td>\n",
       "      <td>Foot glass pretty audience hit themselves. Amo...</td>\n",
       "    </tr>\n",
       "    <tr>\n",
       "      <th>2</th>\n",
       "      <td>3</td>\n",
       "      <td>2</td>\n",
       "      <td>lorichen</td>\n",
       "      <td>Listen treat keep worry. Miss husband tax but ...</td>\n",
       "    </tr>\n",
       "    <tr>\n",
       "      <th>3</th>\n",
       "      <td>4</td>\n",
       "      <td>3</td>\n",
       "      <td>johnsonamanda</td>\n",
       "      <td>Finally month interesting blue could nature cu...</td>\n",
       "    </tr>\n",
       "    <tr>\n",
       "      <th>4</th>\n",
       "      <td>5</td>\n",
       "      <td>3</td>\n",
       "      <td>scotttamara</td>\n",
       "      <td>Nation purpose heavy give wait song will. List...</td>\n",
       "    </tr>\n",
       "  </tbody>\n",
       "</table>\n",
       "</div>"
      ],
      "text/plain": [
       "   review_id  book_id       username  \\\n",
       "0          1        1   brandtandrea   \n",
       "1          2        1     ryanfranco   \n",
       "2          3        2       lorichen   \n",
       "3          4        3  johnsonamanda   \n",
       "4          5        3    scotttamara   \n",
       "\n",
       "                                                text  \n",
       "0  Mention society tell send professor analysis. ...  \n",
       "1  Foot glass pretty audience hit themselves. Amo...  \n",
       "2  Listen treat keep worry. Miss husband tax but ...  \n",
       "3  Finally month interesting blue could nature cu...  \n",
       "4  Nation purpose heavy give wait song will. List...  "
      ]
     },
     "execution_count": 7,
     "metadata": {},
     "output_type": "execute_result"
    }
   ],
   "source": [
    "request('''SELECT *\n",
    "           FROM reviews\n",
    "           LIMIT 5''')"
   ]
  },
  {
   "cell_type": "markdown",
   "metadata": {
    "id": "M3IL071UBora"
   },
   "source": [
    "### Количество книг, вышедших после 1 января 2000 года"
   ]
  },
  {
   "cell_type": "code",
   "execution_count": 8,
   "metadata": {
    "colab": {
     "base_uri": "https://localhost:8080/",
     "height": 81
    },
    "id": "pc-8gxU6B4P9",
    "outputId": "9ba4b0d2-d5bf-4ec2-a6eb-00155424ada0"
   },
   "outputs": [
    {
     "data": {
      "text/html": [
       "<div>\n",
       "<style scoped>\n",
       "    .dataframe tbody tr th:only-of-type {\n",
       "        vertical-align: middle;\n",
       "    }\n",
       "\n",
       "    .dataframe tbody tr th {\n",
       "        vertical-align: top;\n",
       "    }\n",
       "\n",
       "    .dataframe thead th {\n",
       "        text-align: right;\n",
       "    }\n",
       "</style>\n",
       "<table border=\"1\" class=\"dataframe\">\n",
       "  <thead>\n",
       "    <tr style=\"text-align: right;\">\n",
       "      <th></th>\n",
       "      <th>count</th>\n",
       "    </tr>\n",
       "  </thead>\n",
       "  <tbody>\n",
       "    <tr>\n",
       "      <th>0</th>\n",
       "      <td>819</td>\n",
       "    </tr>\n",
       "  </tbody>\n",
       "</table>\n",
       "</div>"
      ],
      "text/plain": [
       "   count\n",
       "0    819"
      ]
     },
     "execution_count": 8,
     "metadata": {},
     "output_type": "execute_result"
    }
   ],
   "source": [
    "request('''SELECT COUNT(book_id)\n",
    "           FROM books\n",
    "           WHERE publication_date  > '2000-01-01' ''')"
   ]
  },
  {
   "cell_type": "markdown",
   "metadata": {
    "id": "12AegQphErqs"
   },
   "source": [
    "После 1 января  2000 года (не включая 01.01.2000) вышла 819 книг."
   ]
  },
  {
   "cell_type": "markdown",
   "metadata": {
    "id": "Q6JAri3AGueH"
   },
   "source": [
    "### Количество обзоров и средняя оценка для каждой книги"
   ]
  },
  {
   "cell_type": "code",
   "execution_count": 9,
   "metadata": {
    "colab": {
     "base_uri": "https://localhost:8080/",
     "height": 423
    },
    "id": "ZqcGxDmAG3et",
    "outputId": "3a53a26d-f1e8-4cd8-cab8-e70ea4d6b3c5"
   },
   "outputs": [
    {
     "data": {
      "text/html": [
       "<div>\n",
       "<style scoped>\n",
       "    .dataframe tbody tr th:only-of-type {\n",
       "        vertical-align: middle;\n",
       "    }\n",
       "\n",
       "    .dataframe tbody tr th {\n",
       "        vertical-align: top;\n",
       "    }\n",
       "\n",
       "    .dataframe thead th {\n",
       "        text-align: right;\n",
       "    }\n",
       "</style>\n",
       "<table border=\"1\" class=\"dataframe\">\n",
       "  <thead>\n",
       "    <tr style=\"text-align: right;\">\n",
       "      <th></th>\n",
       "      <th>title</th>\n",
       "      <th>count_review</th>\n",
       "      <th>average_rating</th>\n",
       "    </tr>\n",
       "  </thead>\n",
       "  <tbody>\n",
       "    <tr>\n",
       "      <th>0</th>\n",
       "      <td>Twilight (Twilight  #1)</td>\n",
       "      <td>7</td>\n",
       "      <td>3.662500</td>\n",
       "    </tr>\n",
       "    <tr>\n",
       "      <th>1</th>\n",
       "      <td>Water for Elephants</td>\n",
       "      <td>6</td>\n",
       "      <td>3.977273</td>\n",
       "    </tr>\n",
       "    <tr>\n",
       "      <th>2</th>\n",
       "      <td>The Glass Castle</td>\n",
       "      <td>6</td>\n",
       "      <td>4.206897</td>\n",
       "    </tr>\n",
       "    <tr>\n",
       "      <th>3</th>\n",
       "      <td>Harry Potter and the Prisoner of Azkaban (Harr...</td>\n",
       "      <td>6</td>\n",
       "      <td>4.414634</td>\n",
       "    </tr>\n",
       "    <tr>\n",
       "      <th>4</th>\n",
       "      <td>The Curious Incident of the Dog in the Night-Time</td>\n",
       "      <td>6</td>\n",
       "      <td>4.081081</td>\n",
       "    </tr>\n",
       "    <tr>\n",
       "      <th>...</th>\n",
       "      <td>...</td>\n",
       "      <td>...</td>\n",
       "      <td>...</td>\n",
       "    </tr>\n",
       "    <tr>\n",
       "      <th>995</th>\n",
       "      <td>Anne Rice's The Vampire Lestat: A Graphic Novel</td>\n",
       "      <td>0</td>\n",
       "      <td>3.666667</td>\n",
       "    </tr>\n",
       "    <tr>\n",
       "      <th>996</th>\n",
       "      <td>The Natural Way to Draw</td>\n",
       "      <td>0</td>\n",
       "      <td>3.000000</td>\n",
       "    </tr>\n",
       "    <tr>\n",
       "      <th>997</th>\n",
       "      <td>The Cat in the Hat and Other Dr. Seuss Favorites</td>\n",
       "      <td>0</td>\n",
       "      <td>5.000000</td>\n",
       "    </tr>\n",
       "    <tr>\n",
       "      <th>998</th>\n",
       "      <td>Essential Tales and Poems</td>\n",
       "      <td>0</td>\n",
       "      <td>4.000000</td>\n",
       "    </tr>\n",
       "    <tr>\n",
       "      <th>999</th>\n",
       "      <td>Disney's Beauty and the Beast (A Little Golden...</td>\n",
       "      <td>0</td>\n",
       "      <td>4.000000</td>\n",
       "    </tr>\n",
       "  </tbody>\n",
       "</table>\n",
       "<p>1000 rows × 3 columns</p>\n",
       "</div>"
      ],
      "text/plain": [
       "                                                 title  count_review  \\\n",
       "0                              Twilight (Twilight  #1)             7   \n",
       "1                                  Water for Elephants             6   \n",
       "2                                     The Glass Castle             6   \n",
       "3    Harry Potter and the Prisoner of Azkaban (Harr...             6   \n",
       "4    The Curious Incident of the Dog in the Night-Time             6   \n",
       "..                                                 ...           ...   \n",
       "995    Anne Rice's The Vampire Lestat: A Graphic Novel             0   \n",
       "996                            The Natural Way to Draw             0   \n",
       "997   The Cat in the Hat and Other Dr. Seuss Favorites             0   \n",
       "998                          Essential Tales and Poems             0   \n",
       "999  Disney's Beauty and the Beast (A Little Golden...             0   \n",
       "\n",
       "     average_rating  \n",
       "0          3.662500  \n",
       "1          3.977273  \n",
       "2          4.206897  \n",
       "3          4.414634  \n",
       "4          4.081081  \n",
       "..              ...  \n",
       "995        3.666667  \n",
       "996        3.000000  \n",
       "997        5.000000  \n",
       "998        4.000000  \n",
       "999        4.000000  \n",
       "\n",
       "[1000 rows x 3 columns]"
      ]
     },
     "execution_count": 9,
     "metadata": {},
     "output_type": "execute_result"
    }
   ],
   "source": [
    "request('''SELECT b.title,\n",
    "                  COUNT(DISTINCT review_id) AS count_review,\n",
    "                  AVG(rating) AS average_rating\n",
    "           FROM books AS b\n",
    "           LEFT JOIN ratings AS rt ON b.book_id = rt.book_id\n",
    "           LEFT JOIN reviews AS rv ON rt.book_id = rv.book_id\n",
    "           GROUP BY b.book_id\n",
    "           ORDER BY 2 DESC''')"
   ]
  },
  {
   "cell_type": "markdown",
   "metadata": {
    "id": "Bky2TPaqe1aD"
   },
   "source": [
    "Для каждой книги выведено количество обзоров, лидер здесь Twilight (Twilight #1)\t- 7 обзоров, а также средняя оценка. В таблице нескольких книг со средним рейтингом - 5. A Dirty Job (Grim Reaper #1)\tлидер по количеству обзоров среди книг с оценкой 5.\n",
    "\n",
    "Для решения использована таблица books, ratings и reviews.\n"
   ]
  },
  {
   "cell_type": "markdown",
   "metadata": {
    "id": "3CwPKeRNR9SD"
   },
   "source": [
    "### Издательство, которое выпустило наибольшее число книг толще 50 страниц."
   ]
  },
  {
   "cell_type": "code",
   "execution_count": 10,
   "metadata": {
    "colab": {
     "base_uri": "https://localhost:8080/",
     "height": 81
    },
    "id": "suu_dRdvLkJl",
    "outputId": "9fce06b0-063f-47ad-b77e-51098e579f39"
   },
   "outputs": [
    {
     "data": {
      "text/html": [
       "<div>\n",
       "<style scoped>\n",
       "    .dataframe tbody tr th:only-of-type {\n",
       "        vertical-align: middle;\n",
       "    }\n",
       "\n",
       "    .dataframe tbody tr th {\n",
       "        vertical-align: top;\n",
       "    }\n",
       "\n",
       "    .dataframe thead th {\n",
       "        text-align: right;\n",
       "    }\n",
       "</style>\n",
       "<table border=\"1\" class=\"dataframe\">\n",
       "  <thead>\n",
       "    <tr style=\"text-align: right;\">\n",
       "      <th></th>\n",
       "      <th>publisher</th>\n",
       "      <th>number_of_books</th>\n",
       "    </tr>\n",
       "  </thead>\n",
       "  <tbody>\n",
       "    <tr>\n",
       "      <th>0</th>\n",
       "      <td>Penguin Books</td>\n",
       "      <td>42</td>\n",
       "    </tr>\n",
       "  </tbody>\n",
       "</table>\n",
       "</div>"
      ],
      "text/plain": [
       "       publisher  number_of_books\n",
       "0  Penguin Books               42"
      ]
     },
     "execution_count": 10,
     "metadata": {},
     "output_type": "execute_result"
    }
   ],
   "source": [
    "request('''SELECT p.publisher,\n",
    "                  COUNT(b.book_id) AS number_of_books\n",
    "           FROM publishers AS p\n",
    "           JOIN books AS b ON p.publisher_id = b.publisher_id\n",
    "           WHERE b.num_pages > 50\n",
    "           GROUP BY 1\n",
    "           ORDER BY 2 DESC\n",
    "           LIMIT 1''')"
   ]
  },
  {
   "cell_type": "markdown",
   "metadata": {
    "id": "7FGqwNKYjfLb"
   },
   "source": [
    "Наибольшее количество книг выпустило издание Penguin Books - 42 книги."
   ]
  },
  {
   "cell_type": "markdown",
   "metadata": {
    "id": "hFNZZnX_OhHL"
   },
   "source": [
    "### Автор с самой высокой средней оценкой книг, учитывая только книги с 50 и более оценками"
   ]
  },
  {
   "cell_type": "code",
   "execution_count": 11,
   "metadata": {},
   "outputs": [
    {
     "data": {
      "text/html": [
       "<div>\n",
       "<style scoped>\n",
       "    .dataframe tbody tr th:only-of-type {\n",
       "        vertical-align: middle;\n",
       "    }\n",
       "\n",
       "    .dataframe tbody tr th {\n",
       "        vertical-align: top;\n",
       "    }\n",
       "\n",
       "    .dataframe thead th {\n",
       "        text-align: right;\n",
       "    }\n",
       "</style>\n",
       "<table border=\"1\" class=\"dataframe\">\n",
       "  <thead>\n",
       "    <tr style=\"text-align: right;\">\n",
       "      <th></th>\n",
       "      <th>author_id</th>\n",
       "      <th>author</th>\n",
       "      <th>avg</th>\n",
       "    </tr>\n",
       "  </thead>\n",
       "  <tbody>\n",
       "    <tr>\n",
       "      <th>0</th>\n",
       "      <td>236</td>\n",
       "      <td>J.K. Rowling/Mary GrandPré</td>\n",
       "      <td>4.283844</td>\n",
       "    </tr>\n",
       "  </tbody>\n",
       "</table>\n",
       "</div>"
      ],
      "text/plain": [
       "   author_id                      author       avg\n",
       "0        236  J.K. Rowling/Mary GrandPré  4.283844"
      ]
     },
     "execution_count": 11,
     "metadata": {},
     "output_type": "execute_result"
    }
   ],
   "source": [
    "request('''with t1 as (\n",
    "                        SELECT b.book_id, \n",
    "                               b.title, \n",
    "                               COUNT(rating_id) AS count_rating, \n",
    "                               AVG(rating) AS average_rating\n",
    "                        FROM books as b\n",
    "                        JOIN ratings as r ON  b.book_id = r.book_id \n",
    "                        GROUP BY 1, 2\n",
    "                                         )\n",
    "          SELECT a.author_id, \n",
    "                 a.author, \n",
    "                 AVG(average_rating) \n",
    "          FROM authors as a\n",
    "          JOIN books  ON books.author_id = a.author_id\n",
    "          JOIN t1 ON t1.book_id = books.book_id\n",
    "          WHERE count_rating >= 50\n",
    "          GROUP BY 1, 2\n",
    "          ORDER BY 3 DESC\n",
    "          LIMIT 1''')"
   ]
  },
  {
   "cell_type": "markdown",
   "metadata": {
    "id": "W6eq0jcIktTM"
   },
   "source": [
    "Самая высокая средняя оценка книги среди книг с 50 и более оценками у J.K. Rowling/Mary GrandPré - 4.28. Серия книг о Harry Potter и правда потрясающая. Другие книги автора наверняка такие же интересные."
   ]
  },
  {
   "cell_type": "markdown",
   "metadata": {
    "id": "Kw2QZ7gyTl7J"
   },
   "source": [
    "### Cреднее количество обзоров от пользователей, которые поставили больше 48 оценок."
   ]
  },
  {
   "cell_type": "code",
   "execution_count": 12,
   "metadata": {
    "colab": {
     "base_uri": "https://localhost:8080/",
     "height": 81
    },
    "id": "ZHfNKu_ZTuW1",
    "outputId": "ea93fe1c-6890-4476-a62b-3e3864b879a1"
   },
   "outputs": [
    {
     "data": {
      "text/html": [
       "<div>\n",
       "<style scoped>\n",
       "    .dataframe tbody tr th:only-of-type {\n",
       "        vertical-align: middle;\n",
       "    }\n",
       "\n",
       "    .dataframe tbody tr th {\n",
       "        vertical-align: top;\n",
       "    }\n",
       "\n",
       "    .dataframe thead th {\n",
       "        text-align: right;\n",
       "    }\n",
       "</style>\n",
       "<table border=\"1\" class=\"dataframe\">\n",
       "  <thead>\n",
       "    <tr style=\"text-align: right;\">\n",
       "      <th></th>\n",
       "      <th>avg_reviews</th>\n",
       "    </tr>\n",
       "  </thead>\n",
       "  <tbody>\n",
       "    <tr>\n",
       "      <th>0</th>\n",
       "      <td>24</td>\n",
       "    </tr>\n",
       "  </tbody>\n",
       "</table>\n",
       "</div>"
      ],
      "text/plain": [
       "   avg_reviews\n",
       "0           24"
      ]
     },
     "execution_count": 12,
     "metadata": {},
     "output_type": "execute_result"
    }
   ],
   "source": [
    "request('''\n",
    "           SELECT COUNT(DISTINCT rv.text)/ COUNT(DISTINCT rv.username) AS avg_reviews\n",
    "           FROM reviews AS rv\n",
    "           JOIN ratings AS r ON rv.username = r.username\n",
    "           WHERE r.username in (\n",
    "                    SELECT username\n",
    "                    FROM ratings\n",
    "                    GROUP BY 1\n",
    "                    HAVING COUNT(rating_id) > 48)\n",
    "                                                  ''')"
   ]
  },
  {
   "cell_type": "markdown",
   "metadata": {
    "id": "PmrdqwwsTiUt"
   },
   "source": [
    "Cреднее количество обзоров от пользователей, которые поставили больше 48 оценок - 24 обзора. Оценку поставить проще, отзыв все-таки надо писать развернуто, не всегла есть время и желание."
   ]
  },
  {
   "cell_type": "markdown",
   "metadata": {
    "id": "1re33rzWrwCK"
   },
   "source": [
    "### **Вывод:**\n",
    "\n",
    "Мы проанализирвоали базу данных крупного сервиса для чтения книг по подписке:\n",
    "- Общее количество книг в базе - 1000. С начала 2020 года коллекция книг пополнилась на 821 книгу. Книги разнообразны по авторам и издательствам. Это позволяет удовлетворить различные вкусы и предпочтения читателей.\n",
    "- Много популярных авторов и книг с высоким рейтингом.\n",
    "- Сервис предоставляет возможность оставлять обзоры и рейтинги, так точно можно найти книгу по душе, открыть для себя новых авторов.\n",
    "- В базе много книг признанных издательств, выпускающих качественные книги и новинки.  \n"
   ]
  }
 ],
 "metadata": {
  "ExecuteTimeLog": [
   {
    "duration": 15029,
    "start_time": "2023-07-21T02:44:48.694Z"
   },
   {
    "duration": 2,
    "start_time": "2023-07-21T02:45:03.726Z"
   },
   {
    "duration": 86,
    "start_time": "2023-07-21T02:45:03.730Z"
   },
   {
    "duration": 10,
    "start_time": "2023-07-21T02:45:03.818Z"
   },
   {
    "duration": 9,
    "start_time": "2023-07-21T02:45:03.829Z"
   },
   {
    "duration": 10,
    "start_time": "2023-07-21T02:45:03.840Z"
   },
   {
    "duration": 12,
    "start_time": "2023-07-21T02:45:03.852Z"
   },
   {
    "duration": 15,
    "start_time": "2023-07-21T02:45:03.866Z"
   },
   {
    "duration": 27,
    "start_time": "2023-07-21T02:45:03.883Z"
   },
   {
    "duration": 10,
    "start_time": "2023-07-21T02:45:03.912Z"
   },
   {
    "duration": 14,
    "start_time": "2023-07-21T02:45:03.924Z"
   },
   {
    "duration": 34,
    "start_time": "2023-07-21T02:45:03.940Z"
   },
   {
    "duration": 74,
    "start_time": "2023-07-21T02:45:25.153Z"
   },
   {
    "duration": 9,
    "start_time": "2023-07-21T02:45:25.229Z"
   },
   {
    "duration": 10,
    "start_time": "2023-07-21T02:45:25.240Z"
   },
   {
    "duration": 20,
    "start_time": "2023-07-21T02:45:25.251Z"
   },
   {
    "duration": 10,
    "start_time": "2023-07-21T02:45:25.273Z"
   },
   {
    "duration": 10,
    "start_time": "2023-07-21T02:45:25.284Z"
   },
   {
    "duration": 27,
    "start_time": "2023-07-21T02:45:25.296Z"
   },
   {
    "duration": 10,
    "start_time": "2023-07-21T02:45:25.324Z"
   },
   {
    "duration": 13,
    "start_time": "2023-07-21T02:45:25.335Z"
   },
   {
    "duration": 25,
    "start_time": "2023-07-21T02:45:25.350Z"
   },
   {
    "duration": 4,
    "start_time": "2023-07-21T02:45:25.376Z"
   },
   {
    "duration": 12,
    "start_time": "2023-07-21T02:45:25.381Z"
   },
   {
    "duration": 51,
    "start_time": "2023-07-21T02:45:26.467Z"
   },
   {
    "duration": 11,
    "start_time": "2023-07-21T02:45:27.726Z"
   },
   {
    "duration": 11,
    "start_time": "2023-07-21T02:45:28.238Z"
   },
   {
    "duration": 11,
    "start_time": "2023-07-21T02:45:28.748Z"
   },
   {
    "duration": 11,
    "start_time": "2023-07-21T02:45:29.079Z"
   },
   {
    "duration": 10,
    "start_time": "2023-07-21T02:45:29.836Z"
   },
   {
    "duration": 28,
    "start_time": "2023-07-21T02:45:30.502Z"
   },
   {
    "duration": 11,
    "start_time": "2023-07-21T02:45:31.150Z"
   },
   {
    "duration": 16,
    "start_time": "2023-07-21T02:45:31.807Z"
   },
   {
    "duration": 26,
    "start_time": "2023-07-21T02:45:32.421Z"
   },
   {
    "duration": 13670,
    "start_time": "2023-07-21T02:50:04.371Z"
   },
   {
    "duration": 4,
    "start_time": "2023-07-21T02:50:18.043Z"
   },
   {
    "duration": 76,
    "start_time": "2023-07-21T02:50:18.048Z"
   },
   {
    "duration": 12,
    "start_time": "2023-07-21T02:50:18.125Z"
   },
   {
    "duration": 10,
    "start_time": "2023-07-21T02:50:18.139Z"
   },
   {
    "duration": 11,
    "start_time": "2023-07-21T02:50:18.151Z"
   },
   {
    "duration": 11,
    "start_time": "2023-07-21T02:50:18.164Z"
   },
   {
    "duration": 9,
    "start_time": "2023-07-21T02:50:18.176Z"
   },
   {
    "duration": 25,
    "start_time": "2023-07-21T02:50:18.186Z"
   },
   {
    "duration": 11,
    "start_time": "2023-07-21T02:50:18.212Z"
   },
   {
    "duration": 14,
    "start_time": "2023-07-21T02:50:18.224Z"
   },
   {
    "duration": 26,
    "start_time": "2023-07-21T02:50:18.240Z"
   },
   {
    "duration": 13,
    "start_time": "2023-07-21T02:50:45.419Z"
   },
   {
    "duration": 11,
    "start_time": "2023-07-21T02:52:10.218Z"
   },
   {
    "duration": 17454,
    "start_time": "2023-07-21T03:00:56.199Z"
   },
   {
    "duration": 4,
    "start_time": "2023-07-21T03:01:13.655Z"
   },
   {
    "duration": 94,
    "start_time": "2023-07-21T03:01:13.660Z"
   },
   {
    "duration": 9,
    "start_time": "2023-07-21T03:01:13.756Z"
   },
   {
    "duration": 9,
    "start_time": "2023-07-21T03:01:13.767Z"
   },
   {
    "duration": 10,
    "start_time": "2023-07-21T03:01:13.778Z"
   },
   {
    "duration": 11,
    "start_time": "2023-07-21T03:01:13.789Z"
   },
   {
    "duration": 9,
    "start_time": "2023-07-21T03:01:13.802Z"
   },
   {
    "duration": 26,
    "start_time": "2023-07-21T03:01:13.812Z"
   },
   {
    "duration": 11,
    "start_time": "2023-07-21T03:01:13.841Z"
   },
   {
    "duration": 27,
    "start_time": "2023-07-21T03:01:13.854Z"
   },
   {
    "duration": 27,
    "start_time": "2023-07-21T03:01:13.882Z"
   },
   {
    "duration": 14648,
    "start_time": "2023-07-21T03:06:35.347Z"
   },
   {
    "duration": 3,
    "start_time": "2023-07-21T03:06:49.997Z"
   },
   {
    "duration": 83,
    "start_time": "2023-07-21T03:06:50.002Z"
   },
   {
    "duration": 10,
    "start_time": "2023-07-21T03:06:50.087Z"
   },
   {
    "duration": 9,
    "start_time": "2023-07-21T03:06:50.099Z"
   },
   {
    "duration": 17,
    "start_time": "2023-07-21T03:06:50.109Z"
   },
   {
    "duration": 12,
    "start_time": "2023-07-21T03:06:50.128Z"
   },
   {
    "duration": 18,
    "start_time": "2023-07-21T03:06:50.142Z"
   },
   {
    "duration": 30,
    "start_time": "2023-07-21T03:06:50.162Z"
   },
   {
    "duration": 10,
    "start_time": "2023-07-21T03:06:50.194Z"
   },
   {
    "duration": 15,
    "start_time": "2023-07-21T03:06:50.205Z"
   },
   {
    "duration": 33,
    "start_time": "2023-07-21T03:06:50.222Z"
   },
   {
    "duration": 16137,
    "start_time": "2023-07-21T03:09:29.520Z"
   },
   {
    "duration": 3,
    "start_time": "2023-07-21T03:09:45.659Z"
   },
   {
    "duration": 90,
    "start_time": "2023-07-21T03:09:45.663Z"
   },
   {
    "duration": 9,
    "start_time": "2023-07-21T03:09:45.755Z"
   },
   {
    "duration": 9,
    "start_time": "2023-07-21T03:09:45.765Z"
   },
   {
    "duration": 11,
    "start_time": "2023-07-21T03:09:45.775Z"
   },
   {
    "duration": 12,
    "start_time": "2023-07-21T03:09:45.788Z"
   },
   {
    "duration": 11,
    "start_time": "2023-07-21T03:09:45.802Z"
   },
   {
    "duration": 27,
    "start_time": "2023-07-21T03:09:45.815Z"
   },
   {
    "duration": 10,
    "start_time": "2023-07-21T03:09:45.844Z"
   },
   {
    "duration": 26,
    "start_time": "2023-07-21T03:09:45.856Z"
   },
   {
    "duration": 27,
    "start_time": "2023-07-21T03:09:45.884Z"
   },
   {
    "duration": 17709,
    "start_time": "2023-07-21T03:10:08.989Z"
   },
   {
    "duration": 3,
    "start_time": "2023-07-21T03:10:26.700Z"
   },
   {
    "duration": 64,
    "start_time": "2023-07-21T03:10:26.705Z"
   },
   {
    "duration": 9,
    "start_time": "2023-07-21T03:10:26.771Z"
   },
   {
    "duration": 11,
    "start_time": "2023-07-21T03:10:26.782Z"
   },
   {
    "duration": 12,
    "start_time": "2023-07-21T03:10:26.794Z"
   },
   {
    "duration": 15,
    "start_time": "2023-07-21T03:10:26.808Z"
   },
   {
    "duration": 15,
    "start_time": "2023-07-21T03:10:26.824Z"
   },
   {
    "duration": 27,
    "start_time": "2023-07-21T03:10:26.841Z"
   },
   {
    "duration": 11,
    "start_time": "2023-07-21T03:10:26.870Z"
   },
   {
    "duration": 14,
    "start_time": "2023-07-21T03:10:26.883Z"
   },
   {
    "duration": 26,
    "start_time": "2023-07-21T03:10:26.899Z"
   },
   {
    "duration": 16013,
    "start_time": "2023-07-21T11:05:00.263Z"
   },
   {
    "duration": 3,
    "start_time": "2023-07-21T11:05:16.277Z"
   },
   {
    "duration": 136,
    "start_time": "2023-07-21T11:05:16.281Z"
   },
   {
    "duration": 9,
    "start_time": "2023-07-21T11:05:16.418Z"
   },
   {
    "duration": 9,
    "start_time": "2023-07-21T11:05:16.428Z"
   },
   {
    "duration": 9,
    "start_time": "2023-07-21T11:05:16.438Z"
   },
   {
    "duration": 9,
    "start_time": "2023-07-21T11:05:16.448Z"
   },
   {
    "duration": 9,
    "start_time": "2023-07-21T11:05:16.459Z"
   },
   {
    "duration": 26,
    "start_time": "2023-07-21T11:05:16.470Z"
   },
   {
    "duration": 10,
    "start_time": "2023-07-21T11:05:16.506Z"
   },
   {
    "duration": 14,
    "start_time": "2023-07-21T11:05:16.517Z"
   },
   {
    "duration": 27,
    "start_time": "2023-07-21T11:05:16.533Z"
   },
   {
    "duration": 43,
    "start_time": "2023-07-21T14:12:46.844Z"
   },
   {
    "duration": 13913,
    "start_time": "2023-07-21T14:12:52.716Z"
   },
   {
    "duration": 3,
    "start_time": "2023-07-21T14:13:06.631Z"
   },
   {
    "duration": 91,
    "start_time": "2023-07-21T14:13:06.635Z"
   },
   {
    "duration": 9,
    "start_time": "2023-07-21T14:13:06.728Z"
   },
   {
    "duration": 11,
    "start_time": "2023-07-21T14:13:06.738Z"
   },
   {
    "duration": 10,
    "start_time": "2023-07-21T14:13:06.750Z"
   },
   {
    "duration": 10,
    "start_time": "2023-07-21T14:13:06.762Z"
   },
   {
    "duration": 15,
    "start_time": "2023-07-21T14:13:06.773Z"
   },
   {
    "duration": 29,
    "start_time": "2023-07-21T14:13:06.789Z"
   },
   {
    "duration": 10,
    "start_time": "2023-07-21T14:13:06.820Z"
   },
   {
    "duration": 17,
    "start_time": "2023-07-21T14:13:06.832Z"
   },
   {
    "duration": 35,
    "start_time": "2023-07-21T14:13:06.850Z"
   },
   {
    "duration": 184,
    "start_time": "2023-07-21T14:15:18.508Z"
   },
   {
    "duration": 28,
    "start_time": "2023-07-21T14:18:27.395Z"
   },
   {
    "duration": 25,
    "start_time": "2023-07-21T14:18:34.097Z"
   },
   {
    "duration": 30,
    "start_time": "2023-07-21T14:18:45.799Z"
   },
   {
    "duration": 12913,
    "start_time": "2023-07-21T14:28:22.870Z"
   },
   {
    "duration": 2,
    "start_time": "2023-07-21T14:28:35.785Z"
   },
   {
    "duration": 88,
    "start_time": "2023-07-21T14:28:35.788Z"
   },
   {
    "duration": 10,
    "start_time": "2023-07-21T14:28:35.878Z"
   },
   {
    "duration": 9,
    "start_time": "2023-07-21T14:28:35.889Z"
   },
   {
    "duration": 11,
    "start_time": "2023-07-21T14:28:35.899Z"
   },
   {
    "duration": 9,
    "start_time": "2023-07-21T14:28:35.911Z"
   },
   {
    "duration": 10,
    "start_time": "2023-07-21T14:28:35.921Z"
   },
   {
    "duration": 31,
    "start_time": "2023-07-21T14:28:35.932Z"
   },
   {
    "duration": 11,
    "start_time": "2023-07-21T14:28:35.964Z"
   },
   {
    "duration": 18,
    "start_time": "2023-07-21T14:28:35.976Z"
   },
   {
    "duration": 25,
    "start_time": "2023-07-21T14:28:35.996Z"
   },
   {
    "duration": 128,
    "start_time": "2023-07-21T14:31:16.573Z"
   },
   {
    "duration": 80,
    "start_time": "2023-07-21T14:37:23.269Z"
   },
   {
    "duration": 60,
    "start_time": "2023-07-21T14:37:32.024Z"
   },
   {
    "duration": 21,
    "start_time": "2023-07-21T14:38:09.839Z"
   },
   {
    "duration": 21,
    "start_time": "2023-07-21T14:38:34.312Z"
   },
   {
    "duration": 81,
    "start_time": "2023-07-21T14:38:54.949Z"
   },
   {
    "duration": 94,
    "start_time": "2023-07-21T14:38:58.679Z"
   },
   {
    "duration": 20,
    "start_time": "2023-07-21T14:39:09.399Z"
   },
   {
    "duration": 71,
    "start_time": "2023-07-21T14:40:08.317Z"
   },
   {
    "duration": 90,
    "start_time": "2023-07-21T14:40:16.119Z"
   },
   {
    "duration": 1456,
    "start_time": "2023-07-21T14:41:06.953Z"
   },
   {
    "duration": 13,
    "start_time": "2023-07-21T14:41:14.824Z"
   },
   {
    "duration": 12879,
    "start_time": "2023-07-21T14:41:19.669Z"
   },
   {
    "duration": 4,
    "start_time": "2023-07-21T14:41:32.551Z"
   },
   {
    "duration": 92,
    "start_time": "2023-07-21T14:41:32.556Z"
   },
   {
    "duration": 11,
    "start_time": "2023-07-21T14:41:32.650Z"
   },
   {
    "duration": 13,
    "start_time": "2023-07-21T14:41:32.662Z"
   },
   {
    "duration": 30,
    "start_time": "2023-07-21T14:41:32.676Z"
   },
   {
    "duration": 11,
    "start_time": "2023-07-21T14:41:32.708Z"
   },
   {
    "duration": 9,
    "start_time": "2023-07-21T14:41:32.720Z"
   },
   {
    "duration": 38,
    "start_time": "2023-07-21T14:41:32.731Z"
   },
   {
    "duration": 11,
    "start_time": "2023-07-21T14:41:32.772Z"
   },
   {
    "duration": 20,
    "start_time": "2023-07-21T14:41:32.785Z"
   },
   {
    "duration": 17,
    "start_time": "2023-07-21T14:41:32.806Z"
   },
   {
    "duration": 47,
    "start_time": "2023-07-21T14:41:32.825Z"
   },
   {
    "duration": 12,
    "start_time": "2023-07-21T14:42:37.222Z"
   },
   {
    "duration": 14,
    "start_time": "2023-07-21T14:42:56.553Z"
   },
   {
    "duration": 44,
    "start_time": "2023-07-21T14:44:00.109Z"
   },
   {
    "duration": 79,
    "start_time": "2023-07-21T14:44:14.476Z"
   },
   {
    "duration": 67,
    "start_time": "2023-07-21T14:44:34.329Z"
   },
   {
    "duration": 44,
    "start_time": "2023-07-21T14:44:37.903Z"
   },
   {
    "duration": 81,
    "start_time": "2023-07-21T14:44:42.999Z"
   },
   {
    "duration": 19,
    "start_time": "2023-07-21T14:53:30.863Z"
   },
   {
    "duration": 32,
    "start_time": "2023-07-21T14:54:14.923Z"
   },
   {
    "duration": 31,
    "start_time": "2023-07-21T14:54:27.721Z"
   },
   {
    "duration": 29,
    "start_time": "2023-07-21T14:54:37.262Z"
   },
   {
    "duration": 21,
    "start_time": "2023-07-21T14:57:57.748Z"
   },
   {
    "duration": 20,
    "start_time": "2023-07-21T14:59:16.559Z"
   },
   {
    "duration": 21,
    "start_time": "2023-07-21T15:00:56.773Z"
   },
   {
    "duration": 21,
    "start_time": "2023-07-21T15:01:54.314Z"
   },
   {
    "duration": 86,
    "start_time": "2023-07-21T15:02:21.551Z"
   },
   {
    "duration": 17,
    "start_time": "2023-07-21T15:03:52.496Z"
   },
   {
    "duration": 12640,
    "start_time": "2023-07-21T15:04:12.951Z"
   },
   {
    "duration": 2,
    "start_time": "2023-07-21T15:04:25.593Z"
   },
   {
    "duration": 70,
    "start_time": "2023-07-21T15:04:25.597Z"
   },
   {
    "duration": 8,
    "start_time": "2023-07-21T15:04:25.669Z"
   },
   {
    "duration": 8,
    "start_time": "2023-07-21T15:04:25.679Z"
   },
   {
    "duration": 9,
    "start_time": "2023-07-21T15:04:25.688Z"
   },
   {
    "duration": 9,
    "start_time": "2023-07-21T15:04:25.698Z"
   },
   {
    "duration": 31,
    "start_time": "2023-07-21T15:04:25.708Z"
   },
   {
    "duration": 29,
    "start_time": "2023-07-21T15:04:25.740Z"
   },
   {
    "duration": 10,
    "start_time": "2023-07-21T15:04:25.770Z"
   },
   {
    "duration": 17,
    "start_time": "2023-07-21T15:04:25.781Z"
   },
   {
    "duration": 27,
    "start_time": "2023-07-21T15:04:25.800Z"
   },
   {
    "duration": 15,
    "start_time": "2023-07-21T15:05:45.311Z"
   },
   {
    "duration": 80,
    "start_time": "2023-07-21T15:06:24.472Z"
   },
   {
    "duration": 73,
    "start_time": "2023-07-21T15:06:51.064Z"
   },
   {
    "duration": 18,
    "start_time": "2023-07-21T15:07:12.686Z"
   },
   {
    "duration": 21,
    "start_time": "2023-07-21T15:07:35.549Z"
   },
   {
    "duration": 64,
    "start_time": "2023-07-21T15:07:46.717Z"
   },
   {
    "duration": 21,
    "start_time": "2023-07-21T15:09:00.429Z"
   },
   {
    "duration": 65,
    "start_time": "2023-07-21T15:09:06.556Z"
   },
   {
    "duration": 80,
    "start_time": "2023-07-21T15:09:14.549Z"
   },
   {
    "duration": 16,
    "start_time": "2023-07-21T15:09:28.110Z"
   },
   {
    "duration": 17,
    "start_time": "2023-07-21T15:10:54.194Z"
   },
   {
    "duration": 15,
    "start_time": "2023-07-21T15:12:32.924Z"
   },
   {
    "duration": 31,
    "start_time": "2023-07-21T15:14:23.553Z"
   },
   {
    "duration": 27,
    "start_time": "2023-07-21T15:14:59.008Z"
   },
   {
    "duration": 12925,
    "start_time": "2023-07-21T15:16:57.956Z"
   },
   {
    "duration": 2,
    "start_time": "2023-07-21T15:17:10.883Z"
   },
   {
    "duration": 76,
    "start_time": "2023-07-21T15:17:10.886Z"
   },
   {
    "duration": 10,
    "start_time": "2023-07-21T15:17:10.964Z"
   },
   {
    "duration": 13,
    "start_time": "2023-07-21T15:17:10.976Z"
   },
   {
    "duration": 10,
    "start_time": "2023-07-21T15:17:10.990Z"
   },
   {
    "duration": 9,
    "start_time": "2023-07-21T15:17:11.001Z"
   },
   {
    "duration": 8,
    "start_time": "2023-07-21T15:17:11.012Z"
   },
   {
    "duration": 111,
    "start_time": "2023-07-21T15:17:11.021Z"
   },
   {
    "duration": 0,
    "start_time": "2023-07-21T15:17:11.133Z"
   },
   {
    "duration": 0,
    "start_time": "2023-07-21T15:17:11.135Z"
   },
   {
    "duration": 0,
    "start_time": "2023-07-21T15:17:11.135Z"
   },
   {
    "duration": 0,
    "start_time": "2023-07-21T15:17:11.137Z"
   },
   {
    "duration": 0,
    "start_time": "2023-07-21T15:17:11.138Z"
   },
   {
    "duration": 1,
    "start_time": "2023-07-21T15:17:11.138Z"
   },
   {
    "duration": 12832,
    "start_time": "2023-07-21T15:17:44.996Z"
   },
   {
    "duration": 3,
    "start_time": "2023-07-21T15:17:57.830Z"
   },
   {
    "duration": 79,
    "start_time": "2023-07-21T15:17:57.835Z"
   },
   {
    "duration": 8,
    "start_time": "2023-07-21T15:17:57.916Z"
   },
   {
    "duration": 16,
    "start_time": "2023-07-21T15:17:57.926Z"
   },
   {
    "duration": 41,
    "start_time": "2023-07-21T15:17:57.943Z"
   },
   {
    "duration": 19,
    "start_time": "2023-07-21T15:17:57.986Z"
   },
   {
    "duration": 19,
    "start_time": "2023-07-21T15:17:58.006Z"
   },
   {
    "duration": 41,
    "start_time": "2023-07-21T15:17:58.027Z"
   },
   {
    "duration": 11,
    "start_time": "2023-07-21T15:17:58.071Z"
   },
   {
    "duration": 15,
    "start_time": "2023-07-21T15:17:58.084Z"
   },
   {
    "duration": 16,
    "start_time": "2023-07-21T15:17:58.101Z"
   },
   {
    "duration": 16,
    "start_time": "2023-07-21T15:17:58.118Z"
   },
   {
    "duration": 37,
    "start_time": "2023-07-21T15:17:58.135Z"
   },
   {
    "duration": 29,
    "start_time": "2023-07-21T15:18:05.942Z"
   },
   {
    "duration": 28,
    "start_time": "2023-07-21T15:18:31.962Z"
   },
   {
    "duration": 12672,
    "start_time": "2023-07-21T15:19:29.523Z"
   },
   {
    "duration": 3,
    "start_time": "2023-07-21T15:19:42.197Z"
   },
   {
    "duration": 76,
    "start_time": "2023-07-21T15:19:42.201Z"
   },
   {
    "duration": 8,
    "start_time": "2023-07-21T15:19:42.278Z"
   },
   {
    "duration": 32,
    "start_time": "2023-07-21T15:19:42.288Z"
   },
   {
    "duration": 12,
    "start_time": "2023-07-21T15:19:42.321Z"
   },
   {
    "duration": 9,
    "start_time": "2023-07-21T15:19:42.334Z"
   },
   {
    "duration": 11,
    "start_time": "2023-07-21T15:19:42.344Z"
   },
   {
    "duration": 27,
    "start_time": "2023-07-21T15:19:42.357Z"
   },
   {
    "duration": 11,
    "start_time": "2023-07-21T15:19:42.386Z"
   },
   {
    "duration": 34,
    "start_time": "2023-07-21T15:19:42.398Z"
   },
   {
    "duration": 20,
    "start_time": "2023-07-21T15:19:42.435Z"
   },
   {
    "duration": 17,
    "start_time": "2023-07-21T15:19:42.456Z"
   },
   {
    "duration": 29,
    "start_time": "2023-07-21T15:19:42.475Z"
   },
   {
    "duration": 30,
    "start_time": "2023-07-21T15:20:40.433Z"
   },
   {
    "duration": 29,
    "start_time": "2023-07-21T15:20:50.155Z"
   },
   {
    "duration": 14,
    "start_time": "2023-07-21T15:21:11.866Z"
   },
   {
    "duration": 16,
    "start_time": "2023-07-21T15:22:26.004Z"
   },
   {
    "duration": 76,
    "start_time": "2023-07-21T15:26:48.503Z"
   },
   {
    "duration": 85,
    "start_time": "2023-07-21T15:27:14.431Z"
   },
   {
    "duration": 82,
    "start_time": "2023-07-21T15:27:28.395Z"
   },
   {
    "duration": 15,
    "start_time": "2023-07-21T15:27:42.117Z"
   },
   {
    "duration": 15,
    "start_time": "2023-07-21T15:27:46.430Z"
   },
   {
    "duration": 15,
    "start_time": "2023-07-21T15:28:45.471Z"
   },
   {
    "duration": 15,
    "start_time": "2023-07-21T15:29:05.386Z"
   },
   {
    "duration": 14040,
    "start_time": "2023-07-21T15:30:24.485Z"
   },
   {
    "duration": 3,
    "start_time": "2023-07-21T15:30:38.527Z"
   },
   {
    "duration": 94,
    "start_time": "2023-07-21T15:30:38.532Z"
   },
   {
    "duration": 9,
    "start_time": "2023-07-21T15:30:38.628Z"
   },
   {
    "duration": 44,
    "start_time": "2023-07-21T15:30:38.639Z"
   },
   {
    "duration": 35,
    "start_time": "2023-07-21T15:30:38.684Z"
   },
   {
    "duration": 19,
    "start_time": "2023-07-21T15:30:38.720Z"
   },
   {
    "duration": 8,
    "start_time": "2023-07-21T15:30:38.740Z"
   },
   {
    "duration": 30,
    "start_time": "2023-07-21T15:30:38.749Z"
   },
   {
    "duration": 10,
    "start_time": "2023-07-21T15:30:38.781Z"
   },
   {
    "duration": 22,
    "start_time": "2023-07-21T15:30:38.792Z"
   },
   {
    "duration": 120,
    "start_time": "2023-07-21T15:30:38.815Z"
   },
   {
    "duration": 0,
    "start_time": "2023-07-21T15:30:38.936Z"
   },
   {
    "duration": 12788,
    "start_time": "2023-07-21T15:31:13.668Z"
   },
   {
    "duration": 3,
    "start_time": "2023-07-21T15:31:26.458Z"
   },
   {
    "duration": 65,
    "start_time": "2023-07-21T15:31:26.462Z"
   },
   {
    "duration": 8,
    "start_time": "2023-07-21T15:31:26.529Z"
   },
   {
    "duration": 33,
    "start_time": "2023-07-21T15:31:26.539Z"
   },
   {
    "duration": 22,
    "start_time": "2023-07-21T15:31:26.573Z"
   },
   {
    "duration": 37,
    "start_time": "2023-07-21T15:31:26.596Z"
   },
   {
    "duration": 10,
    "start_time": "2023-07-21T15:31:26.635Z"
   },
   {
    "duration": 29,
    "start_time": "2023-07-21T15:31:26.646Z"
   },
   {
    "duration": 10,
    "start_time": "2023-07-21T15:31:26.677Z"
   },
   {
    "duration": 15,
    "start_time": "2023-07-21T15:31:26.689Z"
   },
   {
    "duration": 44,
    "start_time": "2023-07-21T15:31:26.705Z"
   },
   {
    "duration": 14,
    "start_time": "2023-07-21T15:31:43.951Z"
   },
   {
    "duration": 14110,
    "start_time": "2023-07-21T15:31:48.710Z"
   },
   {
    "duration": 3,
    "start_time": "2023-07-21T15:32:02.822Z"
   },
   {
    "duration": 84,
    "start_time": "2023-07-21T15:32:02.826Z"
   },
   {
    "duration": 8,
    "start_time": "2023-07-21T15:32:02.912Z"
   },
   {
    "duration": 21,
    "start_time": "2023-07-21T15:32:02.921Z"
   },
   {
    "duration": 23,
    "start_time": "2023-07-21T15:32:02.943Z"
   },
   {
    "duration": 9,
    "start_time": "2023-07-21T15:32:02.968Z"
   },
   {
    "duration": 13,
    "start_time": "2023-07-21T15:32:02.978Z"
   },
   {
    "duration": 39,
    "start_time": "2023-07-21T15:32:02.992Z"
   },
   {
    "duration": 9,
    "start_time": "2023-07-21T15:32:03.033Z"
   },
   {
    "duration": 16,
    "start_time": "2023-07-21T15:32:03.044Z"
   },
   {
    "duration": 29,
    "start_time": "2023-07-21T15:32:03.062Z"
   },
   {
    "duration": 13530,
    "start_time": "2023-07-21T15:33:27.402Z"
   },
   {
    "duration": 2,
    "start_time": "2023-07-21T15:33:40.934Z"
   },
   {
    "duration": 56,
    "start_time": "2023-07-21T15:33:40.938Z"
   },
   {
    "duration": 8,
    "start_time": "2023-07-21T15:33:40.995Z"
   },
   {
    "duration": 8,
    "start_time": "2023-07-21T15:33:41.005Z"
   },
   {
    "duration": 8,
    "start_time": "2023-07-21T15:33:41.015Z"
   },
   {
    "duration": 9,
    "start_time": "2023-07-21T15:33:41.024Z"
   },
   {
    "duration": 8,
    "start_time": "2023-07-21T15:33:41.035Z"
   },
   {
    "duration": 29,
    "start_time": "2023-07-21T15:33:41.044Z"
   },
   {
    "duration": 9,
    "start_time": "2023-07-21T15:33:41.075Z"
   },
   {
    "duration": 14,
    "start_time": "2023-07-21T15:33:41.085Z"
   },
   {
    "duration": 24,
    "start_time": "2023-07-21T15:33:41.100Z"
   },
   {
    "duration": 10866,
    "start_time": "2023-08-15T14:24:08.208Z"
   },
   {
    "duration": 3,
    "start_time": "2023-08-15T14:24:19.077Z"
   },
   {
    "duration": 251,
    "start_time": "2023-08-15T14:24:19.081Z"
   },
   {
    "duration": 52,
    "start_time": "2023-08-15T14:24:19.334Z"
   },
   {
    "duration": 53,
    "start_time": "2023-08-15T14:24:19.387Z"
   },
   {
    "duration": 56,
    "start_time": "2023-08-15T14:24:19.441Z"
   },
   {
    "duration": 56,
    "start_time": "2023-08-15T14:24:19.498Z"
   },
   {
    "duration": 52,
    "start_time": "2023-08-15T14:24:19.556Z"
   },
   {
    "duration": 93,
    "start_time": "2023-08-15T14:24:19.610Z"
   },
   {
    "duration": 55,
    "start_time": "2023-08-15T14:24:19.706Z"
   },
   {
    "duration": 61,
    "start_time": "2023-08-15T14:24:19.763Z"
   },
   {
    "duration": 68,
    "start_time": "2023-08-15T14:24:19.825Z"
   },
   {
    "duration": 12221,
    "start_time": "2023-08-15T14:25:30.691Z"
   },
   {
    "duration": 3,
    "start_time": "2023-08-15T14:25:42.913Z"
   },
   {
    "duration": 268,
    "start_time": "2023-08-15T14:25:42.918Z"
   },
   {
    "duration": 53,
    "start_time": "2023-08-15T14:25:43.187Z"
   },
   {
    "duration": 52,
    "start_time": "2023-08-15T14:25:43.242Z"
   },
   {
    "duration": 54,
    "start_time": "2023-08-15T14:25:43.295Z"
   },
   {
    "duration": 54,
    "start_time": "2023-08-15T14:25:43.350Z"
   },
   {
    "duration": 55,
    "start_time": "2023-08-15T14:25:43.407Z"
   },
   {
    "duration": 101,
    "start_time": "2023-08-15T14:25:43.464Z"
   },
   {
    "duration": 54,
    "start_time": "2023-08-15T14:25:43.568Z"
   },
   {
    "duration": 56,
    "start_time": "2023-08-15T14:25:43.624Z"
   },
   {
    "duration": 69,
    "start_time": "2023-08-15T14:25:43.682Z"
   },
   {
    "duration": 9010,
    "start_time": "2023-12-02T19:28:38.696Z"
   },
   {
    "duration": 4,
    "start_time": "2023-12-02T19:28:47.707Z"
   },
   {
    "duration": 55,
    "start_time": "2023-12-02T19:28:47.712Z"
   },
   {
    "duration": 8,
    "start_time": "2023-12-02T19:28:47.769Z"
   },
   {
    "duration": 10,
    "start_time": "2023-12-02T19:28:47.779Z"
   },
   {
    "duration": 10,
    "start_time": "2023-12-02T19:28:47.790Z"
   },
   {
    "duration": 9,
    "start_time": "2023-12-02T19:28:47.802Z"
   },
   {
    "duration": 7,
    "start_time": "2023-12-02T19:28:47.812Z"
   },
   {
    "duration": 32,
    "start_time": "2023-12-02T19:28:47.820Z"
   },
   {
    "duration": 11,
    "start_time": "2023-12-02T19:28:47.855Z"
   },
   {
    "duration": 13,
    "start_time": "2023-12-02T19:28:47.867Z"
   },
   {
    "duration": 22,
    "start_time": "2023-12-02T19:28:47.881Z"
   }
  ],
  "colab": {
   "provenance": [],
   "toc_visible": true
  },
  "kernelspec": {
   "display_name": "Python 3 (ipykernel)",
   "language": "python",
   "name": "python3"
  },
  "language_info": {
   "codemirror_mode": {
    "name": "ipython",
    "version": 3
   },
   "file_extension": ".py",
   "mimetype": "text/x-python",
   "name": "python",
   "nbconvert_exporter": "python",
   "pygments_lexer": "ipython3",
   "version": "3.9.5"
  },
  "toc": {
   "base_numbering": 1,
   "nav_menu": {},
   "number_sections": true,
   "sideBar": true,
   "skip_h1_title": true,
   "title_cell": "Table of Contents",
   "title_sidebar": "Contents",
   "toc_cell": false,
   "toc_position": {},
   "toc_section_display": true,
   "toc_window_display": false
  }
 },
 "nbformat": 4,
 "nbformat_minor": 1
}
